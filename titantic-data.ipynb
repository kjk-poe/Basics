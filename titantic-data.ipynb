{
 "cells": [
  {
   "cell_type": "code",
   "execution_count": 1,
   "id": "2aa704a6",
   "metadata": {
    "_cell_guid": "b1076dfc-b9ad-4769-8c92-a6c4dae69d19",
    "_uuid": "8f2839f25d086af736a60e9eeb907d3b93b6e0e5",
    "execution": {
     "iopub.execute_input": "2023-07-05T04:48:35.467419Z",
     "iopub.status.busy": "2023-07-05T04:48:35.467019Z",
     "iopub.status.idle": "2023-07-05T04:48:35.482123Z",
     "shell.execute_reply": "2023-07-05T04:48:35.480532Z"
    },
    "papermill": {
     "duration": 0.0256,
     "end_time": "2023-07-05T04:48:35.484993",
     "exception": false,
     "start_time": "2023-07-05T04:48:35.459393",
     "status": "completed"
    },
    "tags": []
   },
   "outputs": [
    {
     "name": "stdout",
     "output_type": "stream",
     "text": [
      "/kaggle/input/titanic/train.csv\n",
      "/kaggle/input/titanic/test.csv\n",
      "/kaggle/input/titanic/gender_submission.csv\n"
     ]
    }
   ],
   "source": [
    "# This Python 3 environment comes with many helpful analytics libraries installed\n",
    "# It is defined by the kaggle/python Docker image: https://github.com/kaggle/docker-python\n",
    "# For example, here's several helpful packages to load\n",
    "\n",
    "import numpy as np # linear algebra\n",
    "import pandas as pd # data processing, CSV file I/O (e.g. pd.read_csv)\n",
    "\n",
    "# Input data files are available in the read-only \"../input/\" directory\n",
    "# For example, running this (by clicking run or pressing Shift+Enter) will list all files under the input directory\n",
    "\n",
    "import os\n",
    "for dirname, _, filenames in os.walk('/kaggle/input'):\n",
    "    for filename in filenames:\n",
    "        print(os.path.join(dirname, filename))\n",
    "\n",
    "# You can write up to 20GB to the current directory (/kaggle/working/) that gets preserved as output when you create a version using \"Save & Run All\" \n",
    "# You can also write temporary files to /kaggle/temp/, but they won't be saved outside of the current session"
   ]
  },
  {
   "cell_type": "code",
   "execution_count": 2,
   "id": "d06e405c",
   "metadata": {
    "execution": {
     "iopub.execute_input": "2023-07-05T04:48:35.498187Z",
     "iopub.status.busy": "2023-07-05T04:48:35.497791Z",
     "iopub.status.idle": "2023-07-05T04:48:35.563973Z",
     "shell.execute_reply": "2023-07-05T04:48:35.563173Z"
    },
    "papermill": {
     "duration": 0.075644,
     "end_time": "2023-07-05T04:48:35.566202",
     "exception": false,
     "start_time": "2023-07-05T04:48:35.490558",
     "status": "completed"
    },
    "tags": []
   },
   "outputs": [
    {
     "data": {
      "text/html": [
       "<div>\n",
       "<style scoped>\n",
       "    .dataframe tbody tr th:only-of-type {\n",
       "        vertical-align: middle;\n",
       "    }\n",
       "\n",
       "    .dataframe tbody tr th {\n",
       "        vertical-align: top;\n",
       "    }\n",
       "\n",
       "    .dataframe thead th {\n",
       "        text-align: right;\n",
       "    }\n",
       "</style>\n",
       "<table border=\"1\" class=\"dataframe\">\n",
       "  <thead>\n",
       "    <tr style=\"text-align: right;\">\n",
       "      <th></th>\n",
       "      <th>PassengerId</th>\n",
       "      <th>Survived</th>\n",
       "      <th>Pclass</th>\n",
       "      <th>Name</th>\n",
       "      <th>Sex</th>\n",
       "      <th>Age</th>\n",
       "      <th>SibSp</th>\n",
       "      <th>Parch</th>\n",
       "      <th>Ticket</th>\n",
       "      <th>Fare</th>\n",
       "      <th>Cabin</th>\n",
       "      <th>Embarked</th>\n",
       "    </tr>\n",
       "  </thead>\n",
       "  <tbody>\n",
       "    <tr>\n",
       "      <th>0</th>\n",
       "      <td>1</td>\n",
       "      <td>0</td>\n",
       "      <td>3</td>\n",
       "      <td>Braund, Mr. Owen Harris</td>\n",
       "      <td>male</td>\n",
       "      <td>22.0</td>\n",
       "      <td>1</td>\n",
       "      <td>0</td>\n",
       "      <td>A/5 21171</td>\n",
       "      <td>7.2500</td>\n",
       "      <td>NaN</td>\n",
       "      <td>S</td>\n",
       "    </tr>\n",
       "    <tr>\n",
       "      <th>1</th>\n",
       "      <td>2</td>\n",
       "      <td>1</td>\n",
       "      <td>1</td>\n",
       "      <td>Cumings, Mrs. John Bradley (Florence Briggs Th...</td>\n",
       "      <td>female</td>\n",
       "      <td>38.0</td>\n",
       "      <td>1</td>\n",
       "      <td>0</td>\n",
       "      <td>PC 17599</td>\n",
       "      <td>71.2833</td>\n",
       "      <td>C85</td>\n",
       "      <td>C</td>\n",
       "    </tr>\n",
       "    <tr>\n",
       "      <th>2</th>\n",
       "      <td>3</td>\n",
       "      <td>1</td>\n",
       "      <td>3</td>\n",
       "      <td>Heikkinen, Miss. Laina</td>\n",
       "      <td>female</td>\n",
       "      <td>26.0</td>\n",
       "      <td>0</td>\n",
       "      <td>0</td>\n",
       "      <td>STON/O2. 3101282</td>\n",
       "      <td>7.9250</td>\n",
       "      <td>NaN</td>\n",
       "      <td>S</td>\n",
       "    </tr>\n",
       "    <tr>\n",
       "      <th>3</th>\n",
       "      <td>4</td>\n",
       "      <td>1</td>\n",
       "      <td>1</td>\n",
       "      <td>Futrelle, Mrs. Jacques Heath (Lily May Peel)</td>\n",
       "      <td>female</td>\n",
       "      <td>35.0</td>\n",
       "      <td>1</td>\n",
       "      <td>0</td>\n",
       "      <td>113803</td>\n",
       "      <td>53.1000</td>\n",
       "      <td>C123</td>\n",
       "      <td>S</td>\n",
       "    </tr>\n",
       "    <tr>\n",
       "      <th>4</th>\n",
       "      <td>5</td>\n",
       "      <td>0</td>\n",
       "      <td>3</td>\n",
       "      <td>Allen, Mr. William Henry</td>\n",
       "      <td>male</td>\n",
       "      <td>35.0</td>\n",
       "      <td>0</td>\n",
       "      <td>0</td>\n",
       "      <td>373450</td>\n",
       "      <td>8.0500</td>\n",
       "      <td>NaN</td>\n",
       "      <td>S</td>\n",
       "    </tr>\n",
       "  </tbody>\n",
       "</table>\n",
       "</div>"
      ],
      "text/plain": [
       "   PassengerId  Survived  Pclass  \\\n",
       "0            1         0       3   \n",
       "1            2         1       1   \n",
       "2            3         1       3   \n",
       "3            4         1       1   \n",
       "4            5         0       3   \n",
       "\n",
       "                                                Name     Sex   Age  SibSp  \\\n",
       "0                            Braund, Mr. Owen Harris    male  22.0      1   \n",
       "1  Cumings, Mrs. John Bradley (Florence Briggs Th...  female  38.0      1   \n",
       "2                             Heikkinen, Miss. Laina  female  26.0      0   \n",
       "3       Futrelle, Mrs. Jacques Heath (Lily May Peel)  female  35.0      1   \n",
       "4                           Allen, Mr. William Henry    male  35.0      0   \n",
       "\n",
       "   Parch            Ticket     Fare Cabin Embarked  \n",
       "0      0         A/5 21171   7.2500   NaN        S  \n",
       "1      0          PC 17599  71.2833   C85        C  \n",
       "2      0  STON/O2. 3101282   7.9250   NaN        S  \n",
       "3      0            113803  53.1000  C123        S  \n",
       "4      0            373450   8.0500   NaN        S  "
      ]
     },
     "execution_count": 2,
     "metadata": {},
     "output_type": "execute_result"
    }
   ],
   "source": [
    "train_data = pd.read_csv(\"/kaggle/input/titanic/train.csv\")\n",
    "test_data = pd.read_csv(\"/kaggle/input/titanic/test.csv\")\n",
    "train_data.head()\n",
    "#test_data.head()"
   ]
  },
  {
   "cell_type": "code",
   "execution_count": 3,
   "id": "c2b1ba3c",
   "metadata": {
    "execution": {
     "iopub.execute_input": "2023-07-05T04:48:35.579974Z",
     "iopub.status.busy": "2023-07-05T04:48:35.579523Z",
     "iopub.status.idle": "2023-07-05T04:48:35.593052Z",
     "shell.execute_reply": "2023-07-05T04:48:35.592121Z"
    },
    "papermill": {
     "duration": 0.023089,
     "end_time": "2023-07-05T04:48:35.595265",
     "exception": false,
     "start_time": "2023-07-05T04:48:35.572176",
     "status": "completed"
    },
    "tags": []
   },
   "outputs": [
    {
     "data": {
      "text/plain": [
       "PassengerId      0\n",
       "Pclass           0\n",
       "Name             0\n",
       "Sex              0\n",
       "Age             86\n",
       "SibSp            0\n",
       "Parch            0\n",
       "Ticket           0\n",
       "Fare             1\n",
       "Cabin          327\n",
       "Embarked         0\n",
       "dtype: int64"
      ]
     },
     "execution_count": 3,
     "metadata": {},
     "output_type": "execute_result"
    }
   ],
   "source": [
    "#Check whether if there are missing data in dataset. \n",
    "train_data.isnull().sum()\n",
    "test_data.isnull().sum()\n",
    "#print(train_data.isnull().sum() > 0)"
   ]
  },
  {
   "cell_type": "code",
   "execution_count": 4,
   "id": "80119e9e",
   "metadata": {
    "execution": {
     "iopub.execute_input": "2023-07-05T04:48:35.609379Z",
     "iopub.status.busy": "2023-07-05T04:48:35.608759Z",
     "iopub.status.idle": "2023-07-05T04:48:35.622916Z",
     "shell.execute_reply": "2023-07-05T04:48:35.622022Z"
    },
    "papermill": {
     "duration": 0.024083,
     "end_time": "2023-07-05T04:48:35.625221",
     "exception": false,
     "start_time": "2023-07-05T04:48:35.601138",
     "status": "completed"
    },
    "tags": []
   },
   "outputs": [
    {
     "name": "stdout",
     "output_type": "stream",
     "text": [
      "Index(['Pclass', 'Sex', 'Age', 'SibSp', 'Parch', 'Fare', 'Embarked'], dtype='object')\n"
     ]
    }
   ],
   "source": [
    "#get X and Y\n",
    "\n",
    "y = train_data[\"Survived\"]\n",
    "features = [\"Pclass\", \"Sex\",\"Age\", \"SibSp\", \"Parch\", \"Fare\", \"Embarked\"]\n",
    "X = train_data[features]\n",
    "test_data =  test_data[features]\n",
    "print(X.columns)\n",
    "#print(X)"
   ]
  },
  {
   "cell_type": "code",
   "execution_count": 5,
   "id": "23d5825f",
   "metadata": {
    "execution": {
     "iopub.execute_input": "2023-07-05T04:48:35.639478Z",
     "iopub.status.busy": "2023-07-05T04:48:35.638778Z",
     "iopub.status.idle": "2023-07-05T04:48:37.425860Z",
     "shell.execute_reply": "2023-07-05T04:48:37.424420Z"
    },
    "papermill": {
     "duration": 1.797306,
     "end_time": "2023-07-05T04:48:37.428492",
     "exception": false,
     "start_time": "2023-07-05T04:48:35.631186",
     "status": "completed"
    },
    "tags": []
   },
   "outputs": [
    {
     "name": "stdout",
     "output_type": "stream",
     "text": [
      "     Pclass       Age  SibSp  Parch      Fare  Sex_female  Sex_male  \\\n",
      "0       3.0  34.50000    0.0    0.0    7.8292           0         1   \n",
      "1       3.0  47.00000    1.0    0.0    7.0000           1         0   \n",
      "2       2.0  62.00000    0.0    0.0    9.6875           0         1   \n",
      "3       3.0  27.00000    0.0    0.0    8.6625           0         1   \n",
      "4       3.0  22.00000    1.0    1.0   12.2875           1         0   \n",
      "..      ...       ...    ...    ...       ...         ...       ...   \n",
      "413     3.0  30.27259    0.0    0.0    8.0500           0         1   \n",
      "414     1.0  39.00000    0.0    0.0  108.9000           1         0   \n",
      "415     3.0  38.50000    0.0    0.0    7.2500           0         1   \n",
      "416     3.0  30.27259    0.0    0.0    8.0500           0         1   \n",
      "417     3.0  30.27259    1.0    1.0   22.3583           0         1   \n",
      "\n",
      "     Embarked_C  Embarked_Q  Embarked_S  \n",
      "0             0           1           0  \n",
      "1             0           0           1  \n",
      "2             0           1           0  \n",
      "3             0           0           1  \n",
      "4             0           0           1  \n",
      "..          ...         ...         ...  \n",
      "413           0           0           1  \n",
      "414           1           0           0  \n",
      "415           0           0           1  \n",
      "416           0           0           1  \n",
      "417           1           0           0  \n",
      "\n",
      "[418 rows x 10 columns]\n"
     ]
    }
   ],
   "source": [
    "from sklearn.impute import SimpleImputer\n",
    "from sklearn.model_selection import train_test_split\n",
    "\n",
    "#Data pipeline. To standardise, one hot encode using pd.dummies and \n",
    "def data_pipeline(X,y,test_data):\n",
    "    X_train_full = X\n",
    "    #Find out the catergorical and numerical column of the data\n",
    "    categorical_cols = [cname for cname in X_train_full.columns if X_train_full[cname].dtype == \"object\"]\n",
    "    numerical_cols = [cname for cname in X_train_full.columns if X_train_full[cname].dtype in ['int64', 'float64']]\n",
    "    my_cols = categorical_cols + numerical_cols\n",
    "    X_train = X_train_full[my_cols].copy()\n",
    "    test_data = test_data[my_cols].copy()\n",
    "    \n",
    "    #use imputer to add the data into dataset\n",
    "    categorical_imputer = SimpleImputer(strategy='most_frequent')\n",
    "    X_train[categorical_cols] = categorical_imputer.fit_transform(X[categorical_cols])\n",
    "    numerical_imputer = SimpleImputer(strategy='mean')\n",
    "    X_train[numerical_cols] = numerical_imputer.fit_transform(X[numerical_cols])\n",
    "    \n",
    "    test_data[categorical_cols] = categorical_imputer.fit_transform(test_data[categorical_cols])\n",
    "    test_data[numerical_cols] = numerical_imputer.fit_transform(test_data[numerical_cols])\n",
    "    \n",
    "    #one_hot_encoder = OneHotEncoder(handle_unknown='ignore')\n",
    "    #X_train = one_hot_encoder.fit_transform(X_train[['Pclass, ']])\n",
    "    \n",
    "    X_train = pd.get_dummies(X_train)\n",
    "    test_data = pd.get_dummies(test_data)\n",
    "    \n",
    "    X_train, X_valid, y_train, y_valid = train_test_split(X_train, y, test_size=0.2, random_state=0)\n",
    "    \n",
    "    return X_train, X_valid, y_train, y_valid, test_data\n",
    "\n",
    "X_train, X_valid, y_train, y_valid, test_data_pipeline= data_pipeline(X, y, test_data)\n",
    "#print(X_train.isnull().sum())\n",
    "print(test_data_pipeline)"
   ]
  },
  {
   "cell_type": "code",
   "execution_count": 6,
   "id": "e1040b7b",
   "metadata": {
    "execution": {
     "iopub.execute_input": "2023-07-05T04:48:37.442699Z",
     "iopub.status.busy": "2023-07-05T04:48:37.442257Z",
     "iopub.status.idle": "2023-07-05T04:48:37.853779Z",
     "shell.execute_reply": "2023-07-05T04:48:37.852534Z"
    },
    "papermill": {
     "duration": 0.421841,
     "end_time": "2023-07-05T04:48:37.856402",
     "exception": false,
     "start_time": "2023-07-05T04:48:37.434561",
     "status": "completed"
    },
    "tags": []
   },
   "outputs": [
    {
     "name": "stdout",
     "output_type": "stream",
     "text": [
      "mae score =  0.2011173184357542\n",
      "accuracy =  0.7988826815642458\n"
     ]
    },
    {
     "name": "stderr",
     "output_type": "stream",
     "text": [
      "/opt/conda/lib/python3.10/site-packages/sklearn/linear_model/_logistic.py:458: ConvergenceWarning: lbfgs failed to converge (status=1):\n",
      "STOP: TOTAL NO. of ITERATIONS REACHED LIMIT.\n",
      "\n",
      "Increase the number of iterations (max_iter) or scale the data as shown in:\n",
      "    https://scikit-learn.org/stable/modules/preprocessing.html\n",
      "Please also refer to the documentation for alternative solver options:\n",
      "    https://scikit-learn.org/stable/modules/linear_model.html#logistic-regression\n",
      "  n_iter_i = _check_optimize_result(\n"
     ]
    },
    {
     "data": {
      "text/plain": [
       "<sklearn.metrics._plot.confusion_matrix.ConfusionMatrixDisplay at 0x7e7524b795d0>"
      ]
     },
     "execution_count": 6,
     "metadata": {},
     "output_type": "execute_result"
    },
    {
     "data": {
      "image/png": "[encoded data removed]",
      "text/plain": [
       "<Figure size 640x480 with 2 Axes>"
      ]
     },
     "metadata": {},
     "output_type": "display_data"
    }
   ],
   "source": [
    "#Model 1: logistic regression\n",
    "from sklearn.linear_model import LogisticRegression\n",
    "from sklearn.metrics import mean_absolute_error\n",
    "from sklearn.metrics import accuracy_score\n",
    "from sklearn.metrics import confusion_matrix, ConfusionMatrixDisplay\n",
    "import matplotlib.pyplot as plt\n",
    "\n",
    "\n",
    "model_1 =  LogisticRegression()\n",
    "model_1.fit(X_train, y_train)\n",
    "\n",
    "predictions_1 = model_1.predict(X_valid)\n",
    "\n",
    "#MAE best value is 0.0. the lower the better\n",
    "mae = mean_absolute_error(y_valid, predictions_1)\n",
    "print(\"mae score = \", mae)\n",
    "accuracy = accuracy_score(y_valid,predictions_1)\n",
    "print(\"accuracy = \", accuracy)\n",
    "cm = confusion_matrix(y_valid, predictions_1)\n",
    "disp = ConfusionMatrixDisplay(confusion_matrix=cm, display_labels = model_1.classes_)\n",
    "disp.plot()\n",
    "\n",
    "#model_1.predict(test_data)\n",
    "#print(model_1.predict(test_data))"
   ]
  },
  {
   "cell_type": "code",
   "execution_count": 7,
   "id": "3fcecda1",
   "metadata": {
    "execution": {
     "iopub.execute_input": "2023-07-05T04:48:37.873586Z",
     "iopub.status.busy": "2023-07-05T04:48:37.873157Z",
     "iopub.status.idle": "2023-07-05T04:48:38.272295Z",
     "shell.execute_reply": "2023-07-05T04:48:38.271152Z"
    },
    "papermill": {
     "duration": 0.411738,
     "end_time": "2023-07-05T04:48:38.275025",
     "exception": false,
     "start_time": "2023-07-05T04:48:37.863287",
     "status": "completed"
    },
    "tags": []
   },
   "outputs": [
    {
     "name": "stdout",
     "output_type": "stream",
     "text": [
      "mae score =  0.22905027932960895\n",
      "accuracy =  0.770949720670391\n"
     ]
    },
    {
     "data": {
      "text/plain": [
       "<sklearn.metrics._plot.confusion_matrix.ConfusionMatrixDisplay at 0x7e7510558b80>"
      ]
     },
     "execution_count": 7,
     "metadata": {},
     "output_type": "execute_result"
    },
    {
     "data": {
      "image/png": "[encoded data removed]",
      "text/plain": [
       "<Figure size 640x480 with 2 Axes>"
      ]
     },
     "metadata": {},
     "output_type": "display_data"
    }
   ],
   "source": [
    "#Model 2: decision tree\n",
    "from sklearn.tree import DecisionTreeClassifier\n",
    "from sklearn.tree import plot_tree\n",
    "from sklearn.metrics import confusion_matrix, ConfusionMatrixDisplay\n",
    "import matplotlib.pyplot as plt\n",
    "\n",
    "model_2 = DecisionTreeClassifier()\n",
    "clf = model_2.fit(X_train, y_train)\n",
    "\n",
    "predictions_2 = model_2.predict(X_valid)\n",
    "\n",
    "mae = mean_absolute_error(y_valid, predictions_2)\n",
    "print(\"mae score = \", mae)\n",
    "accuracy = accuracy_score(y_valid,predictions_2)\n",
    "print(\"accuracy = \", accuracy)\n",
    "cm = confusion_matrix(y_valid, predictions_2)\n",
    "disp = ConfusionMatrixDisplay(confusion_matrix=cm, display_labels = model_2.classes_)\n",
    "disp.plot()\n",
    "#print(predictions_2)\n",
    "\n",
    "#plot_tree(clf)"
   ]
  },
  {
   "cell_type": "code",
   "execution_count": 8,
   "id": "9075a890",
   "metadata": {
    "execution": {
     "iopub.execute_input": "2023-07-05T04:48:38.291926Z",
     "iopub.status.busy": "2023-07-05T04:48:38.291500Z",
     "iopub.status.idle": "2023-07-05T04:48:38.650542Z",
     "shell.execute_reply": "2023-07-05T04:48:38.649348Z"
    },
    "papermill": {
     "duration": 0.370415,
     "end_time": "2023-07-05T04:48:38.653174",
     "exception": false,
     "start_time": "2023-07-05T04:48:38.282759",
     "status": "completed"
    },
    "tags": []
   },
   "outputs": [
    {
     "name": "stdout",
     "output_type": "stream",
     "text": [
      "mae score =  0.2737430167597765\n",
      "accuracy =  0.7262569832402235\n"
     ]
    },
    {
     "data": {
      "text/plain": [
       "<sklearn.metrics._plot.confusion_matrix.ConfusionMatrixDisplay at 0x7e7512d590f0>"
      ]
     },
     "execution_count": 8,
     "metadata": {},
     "output_type": "execute_result"
    },
    {
     "data": {
      "image/png": "[encoded data removed]",
      "text/plain": [
       "<Figure size 640x480 with 2 Axes>"
      ]
     },
     "metadata": {},
     "output_type": "display_data"
    }
   ],
   "source": [
    "#Model 3:  KNN\n",
    "from sklearn.neighbors import KNeighborsClassifier \n",
    "from sklearn.metrics import confusion_matrix, ConfusionMatrixDisplay\n",
    "import matplotlib.pyplot as plt\n",
    "\n",
    "model_3 = KNeighborsClassifier(n_neighbors=5)\n",
    "model_3.fit(X_train, y_train)\n",
    "\n",
    "predictions_3 = model_3.predict(X_valid)\n",
    "\n",
    "mae = mean_absolute_error(y_valid, predictions_3)\n",
    "print(\"mae score = \", mae)\n",
    "accuracy = accuracy_score(y_valid,predictions_3)\n",
    "print(\"accuracy = \", accuracy)\n",
    "cm = confusion_matrix(y_valid, predictions_3)\n",
    "disp = ConfusionMatrixDisplay(confusion_matrix=cm, display_labels = model_3.classes_)\n",
    "disp.plot()\n",
    "\n",
    "#print(predictions_3)"
   ]
  },
  {
   "cell_type": "code",
   "execution_count": 9,
   "id": "098b5b1d",
   "metadata": {
    "execution": {
     "iopub.execute_input": "2023-07-05T04:48:38.671260Z",
     "iopub.status.busy": "2023-07-05T04:48:38.670845Z",
     "iopub.status.idle": "2023-07-05T04:48:39.299440Z",
     "shell.execute_reply": "2023-07-05T04:48:39.298118Z"
    },
    "papermill": {
     "duration": 0.640587,
     "end_time": "2023-07-05T04:48:39.301867",
     "exception": false,
     "start_time": "2023-07-05T04:48:38.661280",
     "status": "completed"
    },
    "tags": []
   },
   "outputs": [
    {
     "name": "stdout",
     "output_type": "stream",
     "text": [
      "mae score =  0.1452513966480447\n",
      "accuracy =  0.8547486033519553\n"
     ]
    },
    {
     "name": "stderr",
     "output_type": "stream",
     "text": [
      "/opt/conda/lib/python3.10/site-packages/xgboost/sklearn.py:835: UserWarning: `early_stopping_rounds` in `fit` method is deprecated for better compatibility with scikit-learn, use `early_stopping_rounds` in constructor or`set_params` instead.\n",
      "  warnings.warn(\n"
     ]
    },
    {
     "data": {
      "text/plain": [
       "<sklearn.metrics._plot.confusion_matrix.ConfusionMatrixDisplay at 0x7e751032ace0>"
      ]
     },
     "execution_count": 9,
     "metadata": {},
     "output_type": "execute_result"
    },
    {
     "data": {
      "image/png": "[encoded data removed]",
      "text/plain": [
       "<Figure size 640x480 with 2 Axes>"
      ]
     },
     "metadata": {},
     "output_type": "display_data"
    }
   ],
   "source": [
    "#model 4: xgboost \n",
    "from xgboost import XGBRegressor\n",
    "from sklearn.metrics import confusion_matrix, ConfusionMatrixDisplay\n",
    "import matplotlib.pyplot as plt\n",
    "\n",
    "model_4 = XGBRegressor(n_estimators=500, learning_rate=0.05)\n",
    "model_4.fit(X_train, y_train,\n",
    "           early_stopping_rounds=5, \n",
    "            eval_set=[(X_valid, y_valid)], \n",
    "             verbose=False)\n",
    "\n",
    "predictions_4 = model_4.predict(X_valid)\n",
    "\n",
    "#print(predictions_4)\n",
    "for i in range(len(predictions_4)):\n",
    "    if predictions_4[i] < 0.5:\n",
    "        predictions_4[i] = 0\n",
    "    else:\n",
    "         predictions_4[i]=1\n",
    "        \n",
    "mae = mean_absolute_error(y_valid, predictions_4)\n",
    "print(\"mae score = \", mae)\n",
    "accuracy = accuracy_score(y_valid,predictions_4)\n",
    "print(\"accuracy = \", accuracy)\n",
    "cm = confusion_matrix(y_valid, predictions_4)\n",
    "disp = ConfusionMatrixDisplay(confusion_matrix=cm, display_labels = model_3.classes_)\n",
    "disp.plot()"
   ]
  },
  {
   "cell_type": "code",
   "execution_count": 10,
   "id": "efad36e5",
   "metadata": {
    "execution": {
     "iopub.execute_input": "2023-07-05T04:48:39.321734Z",
     "iopub.status.busy": "2023-07-05T04:48:39.321313Z",
     "iopub.status.idle": "2023-07-05T04:48:57.057454Z",
     "shell.execute_reply": "2023-07-05T04:48:57.056208Z"
    },
    "papermill": {
     "duration": 17.749204,
     "end_time": "2023-07-05T04:48:57.059957",
     "exception": false,
     "start_time": "2023-07-05T04:48:39.310753",
     "status": "completed"
    },
    "tags": []
   },
   "outputs": [
    {
     "name": "stderr",
     "output_type": "stream",
     "text": [
      "/opt/conda/lib/python3.10/site-packages/tensorflow_io/python/ops/__init__.py:98: UserWarning: unable to load libtensorflow_io_plugins.so: unable to open file: libtensorflow_io_plugins.so, from paths: ['/opt/conda/lib/python3.10/site-packages/tensorflow_io/python/ops/libtensorflow_io_plugins.so']\n",
      "caused by: ['/opt/conda/lib/python3.10/site-packages/tensorflow_io/python/ops/libtensorflow_io_plugins.so: undefined symbol: _ZN3tsl6StatusC1EN10tensorflow5error4CodeESt17basic_string_viewIcSt11char_traitsIcEENS_14SourceLocationE']\n",
      "  warnings.warn(f\"unable to load libtensorflow_io_plugins.so: {e}\")\n",
      "/opt/conda/lib/python3.10/site-packages/tensorflow_io/python/ops/__init__.py:104: UserWarning: file system plugins are not loaded: unable to open file: libtensorflow_io.so, from paths: ['/opt/conda/lib/python3.10/site-packages/tensorflow_io/python/ops/libtensorflow_io.so']\n",
      "caused by: ['/opt/conda/lib/python3.10/site-packages/tensorflow_io/python/ops/libtensorflow_io.so: undefined symbol: _ZTVN10tensorflow13GcsFileSystemE']\n",
      "  warnings.warn(f\"file system plugins are not loaded: {e}\")\n"
     ]
    },
    {
     "name": "stdout",
     "output_type": "stream",
     "text": [
      "Epoch 1/50\n",
      "18/18 [==============================] - 2s 19ms/step - loss: 0.9167 - accuracy: 0.6678 - val_loss: 0.7502 - val_accuracy: 0.5944\n",
      "Epoch 2/50\n",
      "18/18 [==============================] - 0s 4ms/step - loss: 0.6173 - accuracy: 0.6942 - val_loss: 0.6177 - val_accuracy: 0.6503\n",
      "Epoch 3/50\n",
      "18/18 [==============================] - 0s 4ms/step - loss: 0.5842 - accuracy: 0.7083 - val_loss: 0.6150 - val_accuracy: 0.6434\n",
      "Epoch 4/50\n",
      "18/18 [==============================] - 0s 4ms/step - loss: 0.6012 - accuracy: 0.6766 - val_loss: 0.5952 - val_accuracy: 0.6643\n",
      "Epoch 5/50\n",
      "18/18 [==============================] - 0s 4ms/step - loss: 0.6322 - accuracy: 0.6837 - val_loss: 0.7330 - val_accuracy: 0.5594\n",
      "Epoch 6/50\n",
      "18/18 [==============================] - 0s 5ms/step - loss: 0.5848 - accuracy: 0.7083 - val_loss: 0.6667 - val_accuracy: 0.5524\n",
      "Epoch 7/50\n",
      "18/18 [==============================] - 0s 5ms/step - loss: 0.5773 - accuracy: 0.7030 - val_loss: 0.5672 - val_accuracy: 0.6643\n",
      "Epoch 8/50\n",
      "18/18 [==============================] - 0s 5ms/step - loss: 0.5402 - accuracy: 0.7258 - val_loss: 0.5779 - val_accuracy: 0.6503\n",
      "Epoch 9/50\n",
      "18/18 [==============================] - 0s 5ms/step - loss: 0.5545 - accuracy: 0.7170 - val_loss: 0.5584 - val_accuracy: 0.7273\n",
      "Epoch 10/50\n",
      "18/18 [==============================] - 0s 4ms/step - loss: 0.5596 - accuracy: 0.7153 - val_loss: 0.5524 - val_accuracy: 0.7622\n",
      "Epoch 11/50\n",
      "18/18 [==============================] - 0s 4ms/step - loss: 0.6268 - accuracy: 0.7012 - val_loss: 0.7604 - val_accuracy: 0.7483\n",
      "Epoch 12/50\n",
      "18/18 [==============================] - 0s 4ms/step - loss: 0.5755 - accuracy: 0.7188 - val_loss: 0.5576 - val_accuracy: 0.7203\n",
      "Epoch 13/50\n",
      "18/18 [==============================] - 0s 4ms/step - loss: 0.5171 - accuracy: 0.7663 - val_loss: 0.6448 - val_accuracy: 0.5944\n",
      "Epoch 14/50\n",
      "18/18 [==============================] - 0s 4ms/step - loss: 0.5459 - accuracy: 0.7364 - val_loss: 0.5621 - val_accuracy: 0.6573\n",
      "Epoch 15/50\n",
      "18/18 [==============================] - 0s 4ms/step - loss: 0.4872 - accuracy: 0.7926 - val_loss: 0.5262 - val_accuracy: 0.6923\n",
      "Epoch 16/50\n",
      "18/18 [==============================] - 0s 4ms/step - loss: 0.4860 - accuracy: 0.7733 - val_loss: 0.4939 - val_accuracy: 0.7972\n",
      "Epoch 17/50\n",
      "18/18 [==============================] - 0s 4ms/step - loss: 0.4792 - accuracy: 0.8014 - val_loss: 0.4843 - val_accuracy: 0.8112\n",
      "Epoch 18/50\n",
      "18/18 [==============================] - 0s 4ms/step - loss: 0.4839 - accuracy: 0.7891 - val_loss: 0.4903 - val_accuracy: 0.7902\n",
      "Epoch 19/50\n",
      "18/18 [==============================] - 0s 4ms/step - loss: 0.4604 - accuracy: 0.8084 - val_loss: 0.4767 - val_accuracy: 0.8042\n",
      "Epoch 20/50\n",
      "18/18 [==============================] - 0s 4ms/step - loss: 0.5056 - accuracy: 0.7891 - val_loss: 0.4952 - val_accuracy: 0.8042\n",
      "Epoch 21/50\n",
      "18/18 [==============================] - 0s 4ms/step - loss: 0.4821 - accuracy: 0.7803 - val_loss: 0.4651 - val_accuracy: 0.8112\n",
      "Epoch 22/50\n",
      "18/18 [==============================] - 0s 4ms/step - loss: 0.4661 - accuracy: 0.8014 - val_loss: 0.4786 - val_accuracy: 0.7972\n",
      "Epoch 23/50\n",
      "18/18 [==============================] - 0s 4ms/step - loss: 0.4543 - accuracy: 0.8120 - val_loss: 0.4827 - val_accuracy: 0.8042\n",
      "Epoch 24/50\n",
      "18/18 [==============================] - 0s 5ms/step - loss: 0.4550 - accuracy: 0.8032 - val_loss: 0.4871 - val_accuracy: 0.7972\n",
      "Epoch 25/50\n",
      "18/18 [==============================] - 0s 4ms/step - loss: 0.4709 - accuracy: 0.7909 - val_loss: 0.4573 - val_accuracy: 0.8042\n",
      "Epoch 26/50\n",
      "18/18 [==============================] - 0s 4ms/step - loss: 0.4453 - accuracy: 0.8155 - val_loss: 0.4608 - val_accuracy: 0.8042\n",
      "Epoch 27/50\n",
      "18/18 [==============================] - 0s 5ms/step - loss: 0.4408 - accuracy: 0.8067 - val_loss: 0.4628 - val_accuracy: 0.7832\n",
      "Epoch 28/50\n",
      "18/18 [==============================] - 0s 5ms/step - loss: 0.4371 - accuracy: 0.8067 - val_loss: 0.4461 - val_accuracy: 0.8182\n",
      "Epoch 29/50\n",
      "18/18 [==============================] - 0s 4ms/step - loss: 0.4514 - accuracy: 0.8102 - val_loss: 0.4683 - val_accuracy: 0.8112\n",
      "Epoch 30/50\n",
      "18/18 [==============================] - 0s 4ms/step - loss: 0.4261 - accuracy: 0.8190 - val_loss: 0.4458 - val_accuracy: 0.8112\n",
      "Epoch 31/50\n",
      "18/18 [==============================] - 0s 4ms/step - loss: 0.4322 - accuracy: 0.8120 - val_loss: 0.5077 - val_accuracy: 0.7902\n",
      "Epoch 32/50\n",
      "18/18 [==============================] - 0s 4ms/step - loss: 0.4279 - accuracy: 0.8120 - val_loss: 0.4555 - val_accuracy: 0.8112\n",
      "Epoch 33/50\n",
      "18/18 [==============================] - 0s 4ms/step - loss: 0.4400 - accuracy: 0.8137 - val_loss: 0.4468 - val_accuracy: 0.8322\n",
      "Epoch 34/50\n",
      "18/18 [==============================] - 0s 5ms/step - loss: 0.4253 - accuracy: 0.8260 - val_loss: 0.4397 - val_accuracy: 0.8042\n",
      "Epoch 35/50\n",
      "18/18 [==============================] - 0s 4ms/step - loss: 0.4303 - accuracy: 0.8190 - val_loss: 0.4427 - val_accuracy: 0.8182\n",
      "Epoch 36/50\n",
      "18/18 [==============================] - 0s 4ms/step - loss: 0.4710 - accuracy: 0.7996 - val_loss: 0.4523 - val_accuracy: 0.7972\n",
      "Epoch 37/50\n",
      "18/18 [==============================] - 0s 4ms/step - loss: 0.4397 - accuracy: 0.8120 - val_loss: 0.5677 - val_accuracy: 0.7972\n",
      "Epoch 38/50\n",
      "18/18 [==============================] - 0s 6ms/step - loss: 0.4709 - accuracy: 0.8084 - val_loss: 0.4485 - val_accuracy: 0.8182\n",
      "Epoch 39/50\n",
      "18/18 [==============================] - 0s 4ms/step - loss: 0.4131 - accuracy: 0.8243 - val_loss: 0.4463 - val_accuracy: 0.8182\n",
      "6/6 [==============================] - 0s 2ms/step\n",
      "mae score =  0.19553072625698323\n",
      "accuracy =  0.8044692737430168\n"
     ]
    },
    {
     "data": {
      "image/png": "[encoded data removed]",
      "text/plain": [
       "<Figure size 640x480 with 1 Axes>"
      ]
     },
     "metadata": {},
     "output_type": "display_data"
    },
    {
     "data": {
      "image/png": "[encoded data removed]",
      "text/plain": [
       "<Figure size 640x480 with 1 Axes>"
      ]
     },
     "metadata": {},
     "output_type": "display_data"
    }
   ],
   "source": [
    "#model_5 neural network\n",
    "import tensorflow as tf\n",
    "from tensorflow import keras\n",
    "from tensorflow.keras.layers import Dense\n",
    "from sklearn.metrics import confusion_matrix, ConfusionMatrixDisplay\n",
    "import matplotlib.pyplot as plt\n",
    "\n",
    "model_5 =  keras.Sequential([\n",
    "    Dense(units = 50, input_shape = (10,), activation ='relu'),\n",
    "    Dense(units = 50, activation ='relu'),\n",
    "    Dense(units = 50, activation ='relu'),\n",
    "    Dense(units = 1, activation ='sigmoid')\n",
    "])\n",
    "\n",
    "model_5.compile(optimizer='adam',loss='binary_crossentropy', metrics=['accuracy'])\n",
    "callback = tf.keras.callbacks.EarlyStopping(monitor='val_loss', patience=5)\n",
    "history = model_5.fit(X_train, y_train, epochs = 50, validation_split=0.2, callbacks=[callback])\n",
    "\n",
    "predictions_5 = model_5.predict(X_valid)\n",
    "for i in range(len(predictions_5)):\n",
    "    if predictions_5[i] < 0.5:\n",
    "        predictions_5[i] = 0\n",
    "    else:\n",
    "         predictions_5[i]=1\n",
    "            \n",
    "mae = mean_absolute_error(y_valid, predictions_5)\n",
    "print(\"mae score = \", mae)\n",
    "accuracy = accuracy_score(y_valid,predictions_5)\n",
    "print(\"accuracy = \", accuracy)\n",
    "cm = confusion_matrix(y_valid, predictions_5)\n",
    "disp = ConfusionMatrixDisplay(confusion_matrix=cm)\n",
    "#disp.plot()\n",
    "\n",
    "#plot history curve\n",
    "plt.plot(history.history['accuracy'])\n",
    "plt.plot(history.history['val_accuracy'])\n",
    "plt.title('model accuracy')\n",
    "plt.ylabel('accuracy')\n",
    "plt.xlabel('epoch')\n",
    "plt.legend(['train', 'validation'], loc='upper left')\n",
    "plt.show()\n",
    "# \"Loss\"\n",
    "plt.plot(history.history['loss'])\n",
    "plt.plot(history.history['val_loss'])\n",
    "plt.title('model loss')\n",
    "plt.ylabel('loss')\n",
    "plt.xlabel('epoch')\n",
    "plt.legend(['train', 'validation'], loc='upper left')\n",
    "plt.show()\n",
    "\n"
   ]
  },
  {
   "cell_type": "code",
   "execution_count": 11,
   "id": "9945b8be",
   "metadata": {
    "execution": {
     "iopub.execute_input": "2023-07-05T04:48:57.105778Z",
     "iopub.status.busy": "2023-07-05T04:48:57.105328Z",
     "iopub.status.idle": "2023-07-05T04:48:57.249426Z",
     "shell.execute_reply": "2023-07-05T04:48:57.248143Z"
    },
    "papermill": {
     "duration": 0.171119,
     "end_time": "2023-07-05T04:48:57.252237",
     "exception": false,
     "start_time": "2023-07-05T04:48:57.081118",
     "status": "completed"
    },
    "tags": []
   },
   "outputs": [
    {
     "name": "stdout",
     "output_type": "stream",
     "text": [
      "14/14 [==============================] - 0s 2ms/step\n",
      "Your submission was successfully saved!\n"
     ]
    }
   ],
   "source": [
    "final_prediction=model_5.predict(test_data_pipeline)\n",
    "for i in range(len(final_prediction)):\n",
    "    if final_prediction[i] < 0.5:\n",
    "        final_prediction[i] = 0\n",
    "    else:\n",
    "        final_prediction[i]=1\n",
    "#print(final_prediction)\n",
    "final_prediction = final_prediction.reshape(418,)\n",
    "#print(final_prediction)\n",
    "\n",
    "test_data = pd.read_csv(\"/kaggle/input/titanic/test.csv\")\n",
    "output = pd.DataFrame({'PassengerId': test_data.PassengerId, 'Survived': final_prediction})\n",
    "output.to_csv('submission.csv', index=False)\n",
    "print(\"Your submission was successfully saved!\")"
   ]
  },
  {
   "cell_type": "code",
   "execution_count": 12,
   "id": "9afb52db",
   "metadata": {
    "execution": {
     "iopub.execute_input": "2023-07-05T04:48:57.298021Z",
     "iopub.status.busy": "2023-07-05T04:48:57.296541Z",
     "iopub.status.idle": "2023-07-05T04:49:00.072791Z",
     "shell.execute_reply": "2023-07-05T04:49:00.071809Z"
    },
    "papermill": {
     "duration": 2.80215,
     "end_time": "2023-07-05T04:49:00.075522",
     "exception": false,
     "start_time": "2023-07-05T04:48:57.273372",
     "status": "completed"
    },
    "tags": []
   },
   "outputs": [
    {
     "name": "stdout",
     "output_type": "stream",
     "text": [
      "[0.23906487 0.2736735  0.30106031 0.19462368 0.22170021]\n"
     ]
    }
   ],
   "source": [
    "from sklearn.model_selection import cross_val_score\n",
    "\n",
    "scores = -1 * cross_val_score(model_4, X_valid, y_valid,\n",
    "                              cv=5,\n",
    "                              scoring='neg_mean_absolute_error')\n",
    "print(scores)"
   ]
  },
  {
   "cell_type": "code",
   "execution_count": null,
   "id": "d28e9ad4",
   "metadata": {
    "papermill": {
     "duration": 0.024032,
     "end_time": "2023-07-05T04:49:00.122734",
     "exception": false,
     "start_time": "2023-07-05T04:49:00.098702",
     "status": "completed"
    },
    "tags": []
   },
   "outputs": [],
   "source": []
  }
 ],
 "metadata": {
  "kernelspec": {
   "display_name": "Python 3",
   "language": "python",
   "name": "python3"
  },
  "language_info": {
   "codemirror_mode": {
    "name": "ipython",
    "version": 3
   },
   "file_extension": ".py",
   "mimetype": "text/x-python",
   "name": "python",
   "nbconvert_exporter": "python",
   "pygments_lexer": "ipython3",
   "version": "3.10.10"
  },
  "papermill": {
   "default_parameters": {},
   "duration": 40.813546,
   "end_time": "2023-07-05T04:49:03.102837",
   "environment_variables": {},
   "exception": null,
   "input_path": "__notebook__.ipynb",
   "output_path": "__notebook__.ipynb",
   "parameters": {},
   "start_time": "2023-07-05T04:48:22.289291",
   "version": "2.4.0"
  }
 },
 "nbformat": 4,
 "nbformat_minor": 5
}
